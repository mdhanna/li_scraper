{
 "cells": [
  {
   "cell_type": "code",
   "execution_count": 1,
   "id": "0a170a80-e0e7-4f65-a2ea-43ce0e603593",
   "metadata": {},
   "outputs": [],
   "source": [
    "import string\n",
    "import time\n",
    "from os import listdir\n",
    "\n",
    "from li_scraper import LIScraper"
   ]
  },
  {
   "cell_type": "code",
   "execution_count": 2,
   "id": "d98315d6-c896-4cb6-98ed-4edc934d8a94",
   "metadata": {},
   "outputs": [
    {
     "name": "stdout",
     "output_type": "stream",
     "text": [
      "Login Successful.\n"
     ]
    }
   ],
   "source": [
    "scraper = LIScraper(path_to_li_creds='li_creds.txt')\n",
    "scraper.log_in_to_li_sales_nav()"
   ]
  },
  {
   "cell_type": "code",
   "execution_count": 3,
   "id": "8ff56534-9163-46fa-b3e7-500fe49d2209",
   "metadata": {},
   "outputs": [
    {
     "name": "stdout",
     "output_type": "stream",
     "text": [
      "12 results found\n",
      "Collecting page 1\n"
     ]
    },
    {
     "data": {
      "text/html": [
       "<div>\n",
       "<style scoped>\n",
       "    .dataframe tbody tr th:only-of-type {\n",
       "        vertical-align: middle;\n",
       "    }\n",
       "\n",
       "    .dataframe tbody tr th {\n",
       "        vertical-align: top;\n",
       "    }\n",
       "\n",
       "    .dataframe thead th {\n",
       "        text-align: right;\n",
       "    }\n",
       "</style>\n",
       "<table border=\"1\" class=\"dataframe\">\n",
       "  <thead>\n",
       "    <tr style=\"text-align: right;\">\n",
       "      <th></th>\n",
       "      <th>title</th>\n",
       "      <th>time_in_role</th>\n",
       "      <th>company</th>\n",
       "      <th>original_company</th>\n",
       "    </tr>\n",
       "  </thead>\n",
       "  <tbody>\n",
       "    <tr>\n",
       "      <th>0</th>\n",
       "      <td>Senior Product Marketing Manager</td>\n",
       "      <td>4 years 11 months in role 4 years 11 months in...</td>\n",
       "      <td>Arity</td>\n",
       "      <td>Arity</td>\n",
       "    </tr>\n",
       "    <tr>\n",
       "      <th>1</th>\n",
       "      <td>Director of Product Marketing</td>\n",
       "      <td>2 years 6 months in role 2 years 6 months in c...</td>\n",
       "      <td>Arity</td>\n",
       "      <td>Arity</td>\n",
       "    </tr>\n",
       "    <tr>\n",
       "      <th>2</th>\n",
       "      <td>Director of Product Marketing &amp; Intelligence</td>\n",
       "      <td>2 years 10 months in role 2 years 10 months in...</td>\n",
       "      <td>Arity</td>\n",
       "      <td>Arity</td>\n",
       "    </tr>\n",
       "    <tr>\n",
       "      <th>3</th>\n",
       "      <td>Sr. Sales Manager - Advertising &amp; Marketing So...</td>\n",
       "      <td>1 year 7 months in role 1 year 7 months in com...</td>\n",
       "      <td>Arity</td>\n",
       "      <td>Arity</td>\n",
       "    </tr>\n",
       "    <tr>\n",
       "      <th>4</th>\n",
       "      <td>Digital Marketing Coordinator</td>\n",
       "      <td>5 months in role 5 months in company</td>\n",
       "      <td>Arity</td>\n",
       "      <td>Arity</td>\n",
       "    </tr>\n",
       "    <tr>\n",
       "      <th>5</th>\n",
       "      <td>Product Marketing Senior Consultant</td>\n",
       "      <td>4 months in role 4 months in company</td>\n",
       "      <td>Arity</td>\n",
       "      <td>Arity</td>\n",
       "    </tr>\n",
       "    <tr>\n",
       "      <th>6</th>\n",
       "      <td>Product Marketing Intern</td>\n",
       "      <td>5 months in role 5 months in company</td>\n",
       "      <td>Arity</td>\n",
       "      <td>Arity</td>\n",
       "    </tr>\n",
       "    <tr>\n",
       "      <th>7</th>\n",
       "      <td>Marketing</td>\n",
       "      <td>6 years 9 months in role 6 years 9 months in c...</td>\n",
       "      <td>Arity</td>\n",
       "      <td>Arity</td>\n",
       "    </tr>\n",
       "    <tr>\n",
       "      <th>8</th>\n",
       "      <td>Marketing Director</td>\n",
       "      <td>10 months in role 5 years 7 months in company</td>\n",
       "      <td>Arity</td>\n",
       "      <td>Arity</td>\n",
       "    </tr>\n",
       "    <tr>\n",
       "      <th>9</th>\n",
       "      <td>Manager - Digital Marketing &amp; Demand Gen</td>\n",
       "      <td>2 months in role 3 years in company</td>\n",
       "      <td>Arity</td>\n",
       "      <td>Arity</td>\n",
       "    </tr>\n",
       "    <tr>\n",
       "      <th>10</th>\n",
       "      <td>VP, Head of Marketing and Product Design</td>\n",
       "      <td>5 years 11 months in role 5 years 11 months in...</td>\n",
       "      <td>Arity</td>\n",
       "      <td>Arity</td>\n",
       "    </tr>\n",
       "    <tr>\n",
       "      <th>11</th>\n",
       "      <td>Sr. Product Marketing Manager</td>\n",
       "      <td>4 months in role 5 years 9 months in company</td>\n",
       "      <td>Arity</td>\n",
       "      <td>Arity</td>\n",
       "    </tr>\n",
       "  </tbody>\n",
       "</table>\n",
       "</div>"
      ],
      "text/plain": [
       "                                                title  \\\n",
       "0                    Senior Product Marketing Manager   \n",
       "1                       Director of Product Marketing   \n",
       "2        Director of Product Marketing & Intelligence   \n",
       "3   Sr. Sales Manager - Advertising & Marketing So...   \n",
       "4                       Digital Marketing Coordinator   \n",
       "5                 Product Marketing Senior Consultant   \n",
       "6                            Product Marketing Intern   \n",
       "7                                           Marketing   \n",
       "8                                  Marketing Director   \n",
       "9            Manager - Digital Marketing & Demand Gen   \n",
       "10           VP, Head of Marketing and Product Design   \n",
       "11                      Sr. Product Marketing Manager   \n",
       "\n",
       "                                         time_in_role company original_company  \n",
       "0   4 years 11 months in role 4 years 11 months in...   Arity            Arity  \n",
       "1   2 years 6 months in role 2 years 6 months in c...   Arity            Arity  \n",
       "2   2 years 10 months in role 2 years 10 months in...   Arity            Arity  \n",
       "3   1 year 7 months in role 1 year 7 months in com...   Arity            Arity  \n",
       "4                5 months in role 5 months in company   Arity            Arity  \n",
       "5                4 months in role 4 months in company   Arity            Arity  \n",
       "6                5 months in role 5 months in company   Arity            Arity  \n",
       "7   6 years 9 months in role 6 years 9 months in c...   Arity            Arity  \n",
       "8       10 months in role 5 years 7 months in company   Arity            Arity  \n",
       "9                 2 months in role 3 years in company   Arity            Arity  \n",
       "10  5 years 11 months in role 5 years 11 months in...   Arity            Arity  \n",
       "11       4 months in role 5 years 9 months in company   Arity            Arity  "
      ]
     },
     "execution_count": 3,
     "metadata": {},
     "output_type": "execute_result"
    }
   ],
   "source": [
    "scraper.gather_all_data_for_company('Arity', crm_only=False, title_keyword='marketing')"
   ]
  },
  {
   "cell_type": "code",
   "execution_count": null,
   "id": "37799be6-0c57-4857-8d6b-d930fa1f673a",
   "metadata": {},
   "outputs": [],
   "source": []
  },
  {
   "cell_type": "code",
   "execution_count": null,
   "id": "c1d11b7e-28b6-44bb-a31f-bbcc1fcbd6f3",
   "metadata": {},
   "outputs": [],
   "source": []
  }
 ],
 "metadata": {
  "kernelspec": {
   "display_name": "Python 3",
   "language": "python",
   "name": "python3"
  },
  "language_info": {
   "codemirror_mode": {
    "name": "ipython",
    "version": 3
   },
   "file_extension": ".py",
   "mimetype": "text/x-python",
   "name": "python",
   "nbconvert_exporter": "python",
   "pygments_lexer": "ipython3",
   "version": "3.8.8"
  }
 },
 "nbformat": 4,
 "nbformat_minor": 5
}
